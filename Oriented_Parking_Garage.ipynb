{
 "cells": [
  {
   "cell_type": "code",
   "execution_count": 1,
   "id": "89d8df91",
   "metadata": {},
   "outputs": [
    {
     "name": "stdout",
     "output_type": "stream",
     "text": [
      "Your garage ticket number is 14 and spaces left is 6\n"
     ]
    }
   ],
   "source": [
    "class Garage():\n",
    "    \n",
    "    def __init__(self, spaces):\n",
    "        self.spaces = spaces\n",
    "        \n",
    "    def add_car_to_space(self, ticket_number, spaces_left):\n",
    "        self.ticket_number = ticket_number\n",
    "        self.spaces_left = spaces_left\n",
    "        self.spaces_left = int(self.spaces) - int(self.ticket_number)\n",
    "        if self.ticket_number > self.spaces:\n",
    "            print('Garage is full. Sorry!')\n",
    "        else:\n",
    "            print(f'Your garage ticket number is {self.ticket_number} and spaces left is {self.spaces_left}')\n",
    "ticket = Garage('20')     \n",
    "ticket.add_car_to_space('14', '0')"
   ]
  },
  {
   "cell_type": "code",
   "execution_count": null,
   "id": "1c96c7a4",
   "metadata": {},
   "outputs": [
    {
     "name": "stdout",
     "output_type": "stream",
     "text": [
      "Welcome to panita Garage! \n",
      " 1. Get a ticket \n",
      " 2. Pay for Parking \n",
      " 3. Show current ticket \n",
      " 4. Quit \n",
      "1\n",
      "Your spaces is 1\n",
      "\n",
      "Welcome to panita Garage! \n",
      " 1. Get a ticket \n",
      " 2. Pay for Parking \n",
      " 3. Show current ticket \n",
      " 4. Quit \n",
      "1\n",
      "Your spaces is 2\n",
      "\n"
     ]
    }
   ],
   "source": [
    "# Object Oriented Parking Garage\n",
    "# tickets - list, parkingSpaces - list, and currentTicket - dictionary\n",
    "class Parking_garage():\n",
    "    \n",
    "    def __init__(self, tickets = [], parkingSpaces = [], currentTicket = {}):\n",
    "        self.tickets = tickets\n",
    "        self.parkingSpaces = parkingSpaces\n",
    "        self.currentTicket = currentTicket\n",
    "        \n",
    "    def run_garage(self):\n",
    "        while True:\n",
    "            result = input('Welcome to panita Garage! \\n 1. Get a ticket \\n 2. Pay for Parking \\n 3. Show current ticket \\n 4. Quit \\n')\n",
    "            if result == '1':\n",
    "                Parking_garage.getting_ticket(self)\n",
    "            elif result == '2':\n",
    "                if len(self.tickets) == 10:\n",
    "                    print('\\nYou need to get a ticket first')\n",
    "                    Parking_garage.run_garage(self)\n",
    "    \n",
    "    def getting_ticket(self):\n",
    "        if len(self.parkingSpaces) == 0:\n",
    "            print(\"Sorry! Parking lot is full\")\n",
    "        else:\n",
    "            if len(self.parkingSpaces) > 0:\n",
    "                new_spaces_left = self.parkingSpaces.pop(0)\n",
    "                print(f'Your spaces is {new_spaces_left}\\n')\n",
    "                self.currentTicket\n",
    "            else:\n",
    "                print('We are out of space')\n",
    "                Parking_garage.getting_ticket(self)\n",
    "                \n",
    "def running_garage():\n",
    "    ticket_list = [1, 2, 3, 4, 5, 6, 7, 8, 9, 10]\n",
    "    spaces_available = [1, 2, 3, 4, 5, 6, 7, 8, 9, 10]\n",
    "    garage = Parking_garage(ticket_list, spaces_available)\n",
    "    garage.run_garage()\n",
    "    \n",
    "running_garage()\n",
    "    "
   ]
  },
  {
   "cell_type": "code",
   "execution_count": null,
   "id": "31017c61",
   "metadata": {},
   "outputs": [],
   "source": []
  }
 ],
 "metadata": {
  "kernelspec": {
   "display_name": "Python 3 (ipykernel)",
   "language": "python",
   "name": "python3"
  },
  "language_info": {
   "codemirror_mode": {
    "name": "ipython",
    "version": 3
   },
   "file_extension": ".py",
   "mimetype": "text/x-python",
   "name": "python",
   "nbconvert_exporter": "python",
   "pygments_lexer": "ipython3",
   "version": "3.9.13"
  }
 },
 "nbformat": 4,
 "nbformat_minor": 5
}
